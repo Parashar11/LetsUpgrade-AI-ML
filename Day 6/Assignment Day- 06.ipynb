{
 "cells": [
  {
   "cell_type": "markdown",
   "metadata": {},
   "source": [
    "### 1. Assuming that we have some email addresses in the \"username@companyname.com\" format, please write program to print the company name of a given email address. Both user names and company names are composed of letters only."
   ]
  },
  {
   "cell_type": "code",
   "execution_count": null,
   "metadata": {},
   "outputs": [],
   "source": [
    "input_email = input('Enter you Mail Address: ')\n",
    "domain = input_email.split('@')[1]\n",
    "company_name = domain.split('.')[0]\n",
    "print(company_name)"
   ]
  },
  {
   "cell_type": "markdown",
   "metadata": {},
   "source": [
    "### 2. Write a program that accepts a comma-separated sequence of words as input and prints the words in a comma separated sequence after sorting them alphabetically."
   ]
  },
  {
   "cell_type": "code",
   "execution_count": null,
   "metadata": {},
   "outputs": [],
   "source": [
    "list = input(\"Type comma-separated sequence of words as input \").split(\",\")\n",
    "list.sort()\n",
    "print(list)"
   ]
  },
  {
   "cell_type": "markdown",
   "metadata": {},
   "source": [
    "### 3. Create your own Jupyter Notebook for Sets.¶\n",
    "Reference link: https://www.w3schools.com/python/python_sets.asp\n",
    "\n",
    "__Sets__\n",
    "Set in python is very similler to the mathematical sets in math i can't contain any duplicate value. Set is also unordered and unindex means.. you can not put the value in set you can't exepcted the same order like dict. and also its unindexed so you can't access with index. Lets see with example\n",
    "\n",
    "Propery of Sets\n",
    "its unordered ( will not maintain the order )\n",
    "its will not store duplicate values\n",
    "its un-indexed ( can't access with index )\n",
    "it is represented with { }"
   ]
  },
  {
   "cell_type": "code",
   "execution_count": null,
   "metadata": {},
   "outputs": [],
   "source": [
    "x={'tata', 'infy','wipro'}\n",
    "y={'goole','facebook','microsoft'}\n",
    "z={'london','newyork','chicago','facebook','infy'}\n",
    "x.add('thnkanalytics')\n",
    "print(\"After adding to the set\",x)\n",
    "x.remove('tata')\n",
    "print(\"After removing an element from the set\",x)\n",
    "x.update(y)\n",
    "print(\"After updating x with y\",x)\n",
    "x.discard(\"car\")\n",
    "print(\"After discarding an element from the set\", x)\n",
    "x.union(y)\n",
    "print(\"union of X and Y\", x)\n",
    "print(\"difference between the sets y and Z\", y.difference(z))\n",
    "print(\"difference between the sets y and Z\", y.difference_update(z))\n",
    "print(\"intersection of two sets\",x.intersection(z))\n",
    "print(\"symmetrical difference of two sets\",x.symmetric_difference(z))\n",
    "print(y)\n",
    "y.clear()\n",
    "print(\"After clearing the set y\", y)"
   ]
  },
  {
   "cell_type": "markdown",
   "metadata": {},
   "source": [
    "### 4. Given a list of n-1 numbers ranging from 1 to n, your task is to find the missing number. There are no duplicates."
   ]
  },
  {
   "cell_type": "code",
   "execution_count": 8,
   "metadata": {},
   "outputs": [
    {
     "name": "stdout",
     "output_type": "stream",
     "text": [
      "Enter the number 1 to n 3 6 8 9\n",
      "[1, 2, 4, 5, 7]\n"
     ]
    }
   ],
   "source": [
    "input_list = [int(i) for i in input('Enter the number 1 to n ').split(' ')]\n",
    "input_list.sort()\n",
    "missing = []\n",
    "for i in range(1,max(input_list)+1):\n",
    "    if i not in input_list:\n",
    "        missing.append(i)\n",
    "print(missing)"
   ]
  },
  {
   "cell_type": "markdown",
   "metadata": {},
   "source": [
    "### 5. With a given list L, write a program to print this list L after removing all duplicate values with original order reserved"
   ]
  },
  {
   "cell_type": "code",
   "execution_count": 10,
   "metadata": {},
   "outputs": [
    {
     "name": "stdout",
     "output_type": "stream",
     "text": [
      "Enter the list numbers separated by space 2 2 4 4 7  8 7\n",
      "2 4 7 8\n"
     ]
    }
   ],
   "source": [
    "numList = list(int(num) for num in input(\"Enter the list numbers separated by space \").strip().split())\n",
    "unique = []\n",
    "for item in numList:\n",
    "    if str(item) not in unique:\n",
    "        unique.append(str(item))\n",
    "\n",
    "print(\" \".join(unique))"
   ]
  }
 ],
 "metadata": {
  "kernelspec": {
   "display_name": "Python 3",
   "language": "python",
   "name": "python3"
  },
  "language_info": {
   "codemirror_mode": {
    "name": "ipython",
    "version": 3
   },
   "file_extension": ".py",
   "mimetype": "text/x-python",
   "name": "python",
   "nbconvert_exporter": "python",
   "pygments_lexer": "ipython3",
   "version": "3.7.6"
  }
 },
 "nbformat": 4,
 "nbformat_minor": 4
}
