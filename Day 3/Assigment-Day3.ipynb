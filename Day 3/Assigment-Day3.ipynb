{
 "cells": [
  {
   "cell_type": "markdown",
   "metadata": {},
   "source": [
    "## Question 1 :\n",
    "__Write a program to subtract two complex numbers in Python.__\n"
   ]
  },
  {
   "cell_type": "code",
   "execution_count": 1,
   "metadata": {
    "colab": {
     "base_uri": "https://localhost:8080/",
     "height": 85
    },
    "colab_type": "code",
    "id": "tlZJOFoAfq5j",
    "outputId": "aab799a8-7153-4841-cc9c-2862303822a1"
   },
   "outputs": [
    {
     "name": "stdout",
     "output_type": "stream",
     "text": [
      "Give input of complex number like a+bj, where a & b are numbers\n",
      "0\n",
      "3j\n",
      "-3j\n"
     ]
    }
   ],
   "source": [
    "print(\"Give input of complex number like a+bj, where a & b are numbers\")\n",
    "z1 = complex(input())\n",
    "z2 = complex(input())\n",
    "print(z1-z2)"
   ]
  },
  {
   "cell_type": "markdown",
   "metadata": {},
   "source": [
    "## Question 2 :\n",
    "__Write a program to find the fourth root of a number.__"
   ]
  },
  {
   "cell_type": "code",
   "execution_count": 2,
   "metadata": {
    "colab": {
     "base_uri": "https://localhost:8080/",
     "height": 51
    },
    "colab_type": "code",
    "id": "d8aOqrami2vj",
    "outputId": "049d5322-cb39-439a-c223-02f49c351095"
   },
   "outputs": [
    {
     "name": "stdout",
     "output_type": "stream",
     "text": [
      "Type a number2\n",
      "1.189207115002721\n"
     ]
    }
   ],
   "source": [
    "x= int(input(\"Type a number\"))\n",
    "print(x**(1/4))\n"
   ]
  },
  {
   "cell_type": "markdown",
   "metadata": {},
   "source": [
    "## Question 3 :\n",
    "__Write a program to swap two numbers in Python with the help of a temporary variable.__"
   ]
  },
  {
   "cell_type": "code",
   "execution_count": null,
   "metadata": {
    "colab": {
     "base_uri": "https://localhost:8080/",
     "height": 68
    },
    "colab_type": "code",
    "id": "XKcL_hksjm2r",
    "outputId": "b13f9446-1a35-46fb-bc2c-ba15fe8f680e"
   },
   "outputs": [],
   "source": [
    "a= int(input(\"type value of a \"))\n",
    "b= int(input(\"type value of b \"))\n",
    "c=a\n",
    "a=b\n",
    "b=c\n",
    "print(\"value of a is\",a,\",value of b is\",b)\n"
   ]
  },
  {
   "cell_type": "markdown",
   "metadata": {},
   "source": [
    "## Question 4 :\n",
    "__Write a program to swap two numbers in Python without using a temporary variable.__"
   ]
  },
  {
   "cell_type": "code",
   "execution_count": null,
   "metadata": {
    "colab": {
     "base_uri": "https://localhost:8080/",
     "height": 68
    },
    "colab_type": "code",
    "id": "0TqD9mHpkoEz",
    "outputId": "8d205a48-5c73-4250-8750-1fdfb905f19a"
   },
   "outputs": [],
   "source": [
    "a= int(input(\"type value of a \"))\n",
    "b= int(input(\"type value of b \"))\n",
    "a= a+b\n",
    "b= a-b\n",
    "a= a-b\n",
    "print(\"value of a is\",a,\",value of b is\",b)"
   ]
  },
  {
   "cell_type": "markdown",
   "metadata": {},
   "source": [
    "## Question 5 :\n",
    "__Write a program to convert fahrenheit to kelvin and celsius both.__"
   ]
  },
  {
   "cell_type": "code",
   "execution_count": null,
   "metadata": {
    "colab": {
     "base_uri": "https://localhost:8080/",
     "height": 68
    },
    "colab_type": "code",
    "id": "axBN3xJFsMdq",
    "outputId": "c3081605-fcd0-42f2-f42a-5132e4319846"
   },
   "outputs": [],
   "source": [
    "fahrenheit = float(input(\"Enter temperature in fahrenheit: \"))\n",
    "celsius = (fahrenheit - 32.0) * 5.0/9.0\n",
    "kelvin = 273.15+(fahrenheit - 32.0) * 5.0/9.0\n",
    "print(\"Temperature in celsius is\",round(celsius,3))\n",
    "print(\"Temperature in kelvin is\",round(kelvin,3))"
   ]
  },
  {
   "cell_type": "markdown",
   "metadata": {},
   "source": [
    "## Question 6 :\n",
    "__Write a program to demonstrate all the available data types in Python. Hint: Use type() function.__"
   ]
  },
  {
   "cell_type": "code",
   "execution_count": 3,
   "metadata": {
    "colab": {
     "base_uri": "https://localhost:8080/",
     "height": 204
    },
    "colab_type": "code",
    "id": "wS7WUEaihywr",
    "outputId": "4665f73b-e3e5-43cd-9b91-a2f908b317cf"
   },
   "outputs": [
    {
     "name": "stdout",
     "output_type": "stream",
     "text": [
      "<class 'int'>\n",
      "<class 'float'>\n",
      "<class 'complex'>\n",
      "<class 'str'>\n",
      "<class 'list'>\n",
      "<class 'set'>\n",
      "<class 'frozenset'>\n",
      "<class 'dict'>\n",
      "<class 'bool'>\n",
      "<class 'range'>\n",
      "<class 'bytearray'>\n"
     ]
    }
   ],
   "source": [
    "a=5\n",
    "print(type(a))\n",
    "a=float(a)\n",
    "print(type(a))\n",
    "a=complex(a)\n",
    "print(type(a))\n",
    "a=str(a)\n",
    "print(type(a))\n",
    "a=list(a)\n",
    "print(type(a))\n",
    "a=set(a)\n",
    "print(type(a))\n",
    "a= frozenset(a)\n",
    "print(type(a))\n",
    "\n",
    "\n",
    "a = {'akash':[10], 'gaurav': [12], 'anand': [14], \n",
    " 'ashish': [30], 'akhil': [25], 'suraj': [20]}\n",
    "\n",
    "print(type(a))\n",
    "a= bool(1)\n",
    "print(type(a))\n",
    "a=bytes(5)\n",
    "print(type(range(1)))\n",
    "print(type(bytearray()))\n",
    "\n",
    "\n"
   ]
  },
  {
   "cell_type": "markdown",
   "metadata": {},
   "source": [
    "## Question 6 :\n",
    "__Create a Markdown cell in jupyter and list the steps discussed in the session by Dr. Darshan\n",
    "Ingle sir to create Github profile and upload Githubs Assignment link.__"
   ]
  },
  {
   "cell_type": "markdown",
   "metadata": {},
   "source": [
    "Below are the setps to create github profile and upload assigment link-\n",
    "    1. Visit https://github.com/  \n",
    "    2. Cick on signup and provide Username, Password & Email id.\n",
    "    3. Your Github account will be created now login using your credentials.\n",
    "    5. Create a Public repository and name it as LetsUpgrade AI/ML.\n",
    "    6. Drop your Day wise folder inside this repo.\n",
    "    7. copy the url of this day wise folder such as Day 3\n",
    "    8. open google form using url (https://bit.ly/aimlassignment)\n",
    "    9. Fill all the required details along with url of day folder.\n",
    "    "
   ]
  }
 ],
 "metadata": {
  "colab": {
   "name": "Day1.ipynb",
   "provenance": []
  },
  "kernelspec": {
   "display_name": "Python 3",
   "language": "python",
   "name": "python3"
  },
  "language_info": {
   "codemirror_mode": {
    "name": "ipython",
    "version": 3
   },
   "file_extension": ".py",
   "mimetype": "text/x-python",
   "name": "python",
   "nbconvert_exporter": "python",
   "pygments_lexer": "ipython3",
   "version": "3.7.6"
  }
 },
 "nbformat": 4,
 "nbformat_minor": 1
}
