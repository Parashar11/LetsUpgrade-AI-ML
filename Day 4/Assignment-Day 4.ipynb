{
 "cells": [
  {
   "cell_type": "markdown",
   "metadata": {},
   "source": [
    "# Question 1 :\n",
    "__Research on whether addition, subtraction, multiplication, division, floor division and modulo\n",
    "operations be performed on complex numbers. Based on your study, implement a Python\n",
    "program to demonstrate these operations.__"
   ]
  },
  {
   "cell_type": "code",
   "execution_count": 1,
   "metadata": {},
   "outputs": [
    {
     "name": "stdout",
     "output_type": "stream",
     "text": [
      "Addition of two complex numbers is:- (11+11j)\n",
      "Subtraction of two complex numbers is:- (5+1j)\n",
      "Multiplication of two complex numbers is:- (-6+58j)\n",
      "Division of two complex numbers is:- (1.5882352941176472-0.6470588235294118j)\n",
      "Floor division and modulo operations cannot be performed on complex number\n"
     ]
    }
   ],
   "source": [
    "a = 8 + 6j\n",
    "b = 3 + 5j\n",
    "\n",
    "print(\"Addition of two complex numbers is:-\",a+b)\n",
    "print(\"Subtraction of two complex numbers is:-\",a-b)\n",
    "print(\"Multiplication of two complex numbers is:-\",a*b)\n",
    "print(\"Division of two complex numbers is:-\",a/b)\n",
    "print(\"Floor division and modulo operations cannot be performed on complex number\")"
   ]
  },
  {
   "cell_type": "markdown",
   "metadata": {},
   "source": [
    "# Question 2 :\n",
    "__Research on range() functions and its parameters. Create a markdown cell and write in your own\n",
    "words (no copy-paste from google please) what you understand about it. Implement a small\n",
    "program of your choice on the same.__"
   ]
  },
  {
   "cell_type": "markdown",
   "metadata": {},
   "source": [
    "range() function is a built-in function in Python, it returns an immutable sequence of numbers between the given start integer to the stop integer."
   ]
  },
  {
   "cell_type": "code",
   "execution_count": 2,
   "metadata": {},
   "outputs": [
    {
     "name": "stdout",
     "output_type": "stream",
     "text": [
      "0 1 2 3 4 "
     ]
    }
   ],
   "source": [
    "for i in range(5):\n",
    "    print(i,end=\" \")"
   ]
  },
  {
   "cell_type": "markdown",
   "metadata": {},
   "source": [
    "# Question 3:\n",
    "__Consider two numbers. Perform their subtraction and if the result of subtraction is greater than\n",
    "25, print their multiplication result else print their division result.__\n"
   ]
  },
  {
   "cell_type": "code",
   "execution_count": 27,
   "metadata": {},
   "outputs": [
    {
     "name": "stdout",
     "output_type": "stream",
     "text": [
      "Type two numbers 30 20\n",
      "1.5\n"
     ]
    }
   ],
   "source": [
    "a,b =map(int,input(\"Type two numbers \").split())\n",
    "print(a*b if a-b> 25 else a/b)"
   ]
  },
  {
   "cell_type": "markdown",
   "metadata": {},
   "source": [
    "# Question 4:\n",
    "__Consider a list of 10 elements of integer values. If the number in the list is divisible by 2, print the\n",
    "result as \"square of that number minus 2\"__"
   ]
  },
  {
   "cell_type": "code",
   "execution_count": 4,
   "metadata": {},
   "outputs": [
    {
     "name": "stdout",
     "output_type": "stream",
     "text": [
      "square of 2 minus 2 =  2\n",
      "square of 6 minus 2 =  34\n",
      "square of 6 minus 2 =  34\n",
      "square of 4 minus 2 =  14\n",
      "square of 4 minus 2 =  14\n",
      "square of 4 minus 2 =  14\n"
     ]
    }
   ],
   "source": [
    "integers = [2,5,6,3,6,4,7,4,9,4]\n",
    "for i in integers:\n",
    "    if i%2==0:\n",
    "        print(\"square of\",i,\"minus 2 = \",i**2-2)"
   ]
  },
  {
   "cell_type": "markdown",
   "metadata": {},
   "source": [
    "# Question 5:\n",
    "__Consider a list of 10 elements. Print all the elements in the list which are greater than 7 when that\n",
    "number is divided 2.__"
   ]
  },
  {
   "cell_type": "code",
   "execution_count": 18,
   "metadata": {},
   "outputs": [
    {
     "name": "stdout",
     "output_type": "stream",
     "text": [
      "[20, 50, 16, 41]\n"
     ]
    }
   ],
   "source": [
    "List = [20,50,6,3,16,4,7,41,9,4]\n",
    "print([i for i in List if i/2>7])"
   ]
  }
 ],
 "metadata": {
  "kernelspec": {
   "display_name": "Python 3",
   "language": "python",
   "name": "python3"
  },
  "language_info": {
   "codemirror_mode": {
    "name": "ipython",
    "version": 3
   },
   "file_extension": ".py",
   "mimetype": "text/x-python",
   "name": "python",
   "nbconvert_exporter": "python",
   "pygments_lexer": "ipython3",
   "version": "3.7.6"
  }
 },
 "nbformat": 4,
 "nbformat_minor": 4
}
