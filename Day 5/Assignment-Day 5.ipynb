{
 "cells": [
  {
   "cell_type": "markdown",
   "metadata": {},
   "source": [
    "# Question 1 :\n",
    "__Write a Python program to find the first 20 non-even prime natural numbers.__"
   ]
  },
  {
   "cell_type": "code",
   "execution_count": 4,
   "metadata": {},
   "outputs": [
    {
     "name": "stdout",
     "output_type": "stream",
     "text": [
      "3 5 7 11 13 17 19 23 29 31 37 41 43 47 53 59 61 67 71 73 "
     ]
    }
   ],
   "source": [
    "list = [i for i in range(3,100,2)]\n",
    "flag=0\n",
    "for num in list:\n",
    "    for j in range(2,num):\n",
    "        if num%j == 0:\n",
    "            break\n",
    "    else:\n",
    "        flag = flag+1\n",
    "        if flag<=20:\n",
    "            print(num,end =\" \")\n",
    "                \n",
    "\n",
    "        \n",
    "        \n",
    "    \n",
    "        \n",
    "    "
   ]
  },
  {
   "cell_type": "markdown",
   "metadata": {},
   "source": [
    "# Question 2 :\n",
    "__Write a Python program to implement 15 functions of string.__"
   ]
  },
  {
   "cell_type": "code",
   "execution_count": 45,
   "metadata": {},
   "outputs": [
    {
     "name": "stdout",
     "output_type": "stream",
     "text": [
      "A PYTHON PROGRAM TO IMPLEMENT 15 FUNCTIONS OF STRING. @#$\n",
      "a python program to implement 15 functions of string. @#$\n",
      "A python program to implement 15 functions of string. @#$\n",
      "1\n",
      "3\n",
      "False\n",
      "False\n",
      "a Python program to implement 15 functions of string. a#$\n",
      "False\n",
      "False\n",
      "False\n",
      "['a', 'Python', 'program', 'to', 'implement', '15', 'functions', 'of', 'string.', '@#$']\n",
      "57\n",
      "True\n",
      "True\n"
     ]
    }
   ],
   "source": [
    "s=\"a Python program to implement 15 functions of string. @#$\"\n",
    "print(s.upper())\n",
    "print(s.lower())\n",
    "print(s.capitalize())\n",
    "print(s.count(\"15\"))\n",
    "print(s.find(\"ython\"))\n",
    "print(s.isalnum())\n",
    "print(s.isalnum())\n",
    "print(s.replace(\"@\",\"a\"))\n",
    "print(s.islower())\n",
    "print(s.isupper())\n",
    "print(s.isdecimal())\n",
    "print(s.split())\n",
    "print(len(s))\n",
    "print(s.startswith(\"a\"))\n",
    "print(s.endswith(\"$\"))"
   ]
  },
  {
   "cell_type": "markdown",
   "metadata": {},
   "source": [
    "# Question 3:\n",
    "__Write a Python program to check if the given string is a Palindrome or Anagram or None of them.\n",
    "Display the message accordingly to the user.__"
   ]
  },
  {
   "cell_type": "code",
   "execution_count": 10,
   "metadata": {},
   "outputs": [
    {
     "name": "stdout",
     "output_type": "stream",
     "text": [
      "Type two strings string 1 & string 2 madam daamm\n",
      "String1 is Palindrome and Anagram\n"
     ]
    }
   ],
   "source": [
    "s1,s2=input(\"Type two strings string 1 & string 2 \").split()\n",
    "flag =0\n",
    "if s1[:] == s1[::-1]:\n",
    "    flag = 1\n",
    "if sorted(s1) == sorted(s2):\n",
    "    flag = flag+2\n",
    "if flag == 0:\n",
    "    print(\"String1 is neither Palindrome nor Anagram\")\n",
    "if flag == 1:\n",
    "    print(\"String1 is Palindrome but not Anagram\")\n",
    "if flag == 2:    \n",
    "    print(\"String1 is Anagram but not Palindrome\")\n",
    "if flag ==3:\n",
    "    print(\"String1 is Palindrome and Anagram\")"
   ]
  },
  {
   "cell_type": "markdown",
   "metadata": {},
   "source": [
    "# Question 4:\n",
    "__Write a Python's user defined function that removes all the additional characters from the string\n",
    "and converts it finally to lower case using built-in lower(). eg: If the string is \"Dr. Darshan Ingle\n",
    "@AI-ML Trainer\", then the output be \"drdarshaningleaimltrainer\"__"
   ]
  },
  {
   "cell_type": "code",
   "execution_count": 34,
   "metadata": {},
   "outputs": [
    {
     "name": "stdout",
     "output_type": "stream",
     "text": [
      "drdarshaningleaimltrainer\n"
     ]
    }
   ],
   "source": [
    "def charremover(s):\n",
    "    s = ''.join(ch for ch in str if ch.isalnum()).lower()\n",
    "    return s\n",
    "str = \"Dr. Darshan Ingle @AI-ML Trainer\"\n",
    "print(charremover(str))\n"
   ]
  }
 ],
 "metadata": {
  "kernelspec": {
   "display_name": "Python 3",
   "language": "python",
   "name": "python3"
  },
  "language_info": {
   "codemirror_mode": {
    "name": "ipython",
    "version": 3
   },
   "file_extension": ".py",
   "mimetype": "text/x-python",
   "name": "python",
   "nbconvert_exporter": "python",
   "pygments_lexer": "ipython3",
   "version": "3.7.6"
  }
 },
 "nbformat": 4,
 "nbformat_minor": 4
}
